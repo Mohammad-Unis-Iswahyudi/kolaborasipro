{
  "nbformat": 4,
  "nbformat_minor": 0,
  "metadata": {
    "colab": {
      "provenance": []
    },
    "kernelspec": {
      "name": "python3",
      "display_name": "Python 3"
    },
    "language_info": {
      "name": "python"
    }
  },
  "cells": [
    {
      "cell_type": "markdown",
      "source": [
        "# Pengambilan Data"
      ],
      "metadata": {
        "id": "EnztbptTKCtm"
      }
    },
    {
      "cell_type": "code",
      "source": [
        "import pandas as pd\n",
        "from sklearn.model_selection import train_test_split\n",
        "from sklearn.neighbors import KNeighborsRegressor\n",
        "from sklearn.metrics import mean_absolute_percentage_error\n",
        "from numpy import array"
      ],
      "metadata": {
        "id": "6fZW8bEBHZi9"
      },
      "execution_count": 18,
      "outputs": []
    },
    {
      "cell_type": "code",
      "execution_count": 20,
      "metadata": {
        "colab": {
          "base_uri": "https://localhost:8080/",
          "height": 423
        },
        "id": "TBbQr5YmEKtv",
        "outputId": "de6a5af4-d928-4d5c-ab0f-d51957fa4b95"
      },
      "outputs": [
        {
          "output_type": "execute_result",
          "data": {
            "text/plain": [
              "          Date  Open  High  Low  Close   Adj Close     Volume\n",
              "0   2023-02-24   925   925  815    875  863.872925  584706700\n",
              "1   2023-02-27   875   875  830    830  819.445190   90183300\n",
              "2   2023-02-28   815   840  800    800  789.826660   65393800\n",
              "3   2023-03-01   800   840  800    835  824.381592   43259400\n",
              "4   2023-03-02   840   875  820    870  858.936523   55298000\n",
              "..         ...   ...   ...  ...    ...         ...        ...\n",
              "62  2023-06-08   910   910  855    860  849.063660   11927200\n",
              "63  2023-06-09   865   865  850    860  849.063660    6627500\n",
              "64  2023-06-12   860   860  830    855  844.127258   11086600\n",
              "65  2023-06-13   855   855  830    855  844.127258   25573900\n",
              "66  2023-06-15   850   850  825    830  830.000000    2763100\n",
              "\n",
              "[67 rows x 7 columns]"
            ],
            "text/html": [
              "\n",
              "  <div id=\"df-71352ad5-5496-4956-9eec-48bb055e9b02\">\n",
              "    <div class=\"colab-df-container\">\n",
              "      <div>\n",
              "<style scoped>\n",
              "    .dataframe tbody tr th:only-of-type {\n",
              "        vertical-align: middle;\n",
              "    }\n",
              "\n",
              "    .dataframe tbody tr th {\n",
              "        vertical-align: top;\n",
              "    }\n",
              "\n",
              "    .dataframe thead th {\n",
              "        text-align: right;\n",
              "    }\n",
              "</style>\n",
              "<table border=\"1\" class=\"dataframe\">\n",
              "  <thead>\n",
              "    <tr style=\"text-align: right;\">\n",
              "      <th></th>\n",
              "      <th>Date</th>\n",
              "      <th>Open</th>\n",
              "      <th>High</th>\n",
              "      <th>Low</th>\n",
              "      <th>Close</th>\n",
              "      <th>Adj Close</th>\n",
              "      <th>Volume</th>\n",
              "    </tr>\n",
              "  </thead>\n",
              "  <tbody>\n",
              "    <tr>\n",
              "      <th>0</th>\n",
              "      <td>2023-02-24</td>\n",
              "      <td>925</td>\n",
              "      <td>925</td>\n",
              "      <td>815</td>\n",
              "      <td>875</td>\n",
              "      <td>863.872925</td>\n",
              "      <td>584706700</td>\n",
              "    </tr>\n",
              "    <tr>\n",
              "      <th>1</th>\n",
              "      <td>2023-02-27</td>\n",
              "      <td>875</td>\n",
              "      <td>875</td>\n",
              "      <td>830</td>\n",
              "      <td>830</td>\n",
              "      <td>819.445190</td>\n",
              "      <td>90183300</td>\n",
              "    </tr>\n",
              "    <tr>\n",
              "      <th>2</th>\n",
              "      <td>2023-02-28</td>\n",
              "      <td>815</td>\n",
              "      <td>840</td>\n",
              "      <td>800</td>\n",
              "      <td>800</td>\n",
              "      <td>789.826660</td>\n",
              "      <td>65393800</td>\n",
              "    </tr>\n",
              "    <tr>\n",
              "      <th>3</th>\n",
              "      <td>2023-03-01</td>\n",
              "      <td>800</td>\n",
              "      <td>840</td>\n",
              "      <td>800</td>\n",
              "      <td>835</td>\n",
              "      <td>824.381592</td>\n",
              "      <td>43259400</td>\n",
              "    </tr>\n",
              "    <tr>\n",
              "      <th>4</th>\n",
              "      <td>2023-03-02</td>\n",
              "      <td>840</td>\n",
              "      <td>875</td>\n",
              "      <td>820</td>\n",
              "      <td>870</td>\n",
              "      <td>858.936523</td>\n",
              "      <td>55298000</td>\n",
              "    </tr>\n",
              "    <tr>\n",
              "      <th>...</th>\n",
              "      <td>...</td>\n",
              "      <td>...</td>\n",
              "      <td>...</td>\n",
              "      <td>...</td>\n",
              "      <td>...</td>\n",
              "      <td>...</td>\n",
              "      <td>...</td>\n",
              "    </tr>\n",
              "    <tr>\n",
              "      <th>62</th>\n",
              "      <td>2023-06-08</td>\n",
              "      <td>910</td>\n",
              "      <td>910</td>\n",
              "      <td>855</td>\n",
              "      <td>860</td>\n",
              "      <td>849.063660</td>\n",
              "      <td>11927200</td>\n",
              "    </tr>\n",
              "    <tr>\n",
              "      <th>63</th>\n",
              "      <td>2023-06-09</td>\n",
              "      <td>865</td>\n",
              "      <td>865</td>\n",
              "      <td>850</td>\n",
              "      <td>860</td>\n",
              "      <td>849.063660</td>\n",
              "      <td>6627500</td>\n",
              "    </tr>\n",
              "    <tr>\n",
              "      <th>64</th>\n",
              "      <td>2023-06-12</td>\n",
              "      <td>860</td>\n",
              "      <td>860</td>\n",
              "      <td>830</td>\n",
              "      <td>855</td>\n",
              "      <td>844.127258</td>\n",
              "      <td>11086600</td>\n",
              "    </tr>\n",
              "    <tr>\n",
              "      <th>65</th>\n",
              "      <td>2023-06-13</td>\n",
              "      <td>855</td>\n",
              "      <td>855</td>\n",
              "      <td>830</td>\n",
              "      <td>855</td>\n",
              "      <td>844.127258</td>\n",
              "      <td>25573900</td>\n",
              "    </tr>\n",
              "    <tr>\n",
              "      <th>66</th>\n",
              "      <td>2023-06-15</td>\n",
              "      <td>850</td>\n",
              "      <td>850</td>\n",
              "      <td>825</td>\n",
              "      <td>830</td>\n",
              "      <td>830.000000</td>\n",
              "      <td>2763100</td>\n",
              "    </tr>\n",
              "  </tbody>\n",
              "</table>\n",
              "<p>67 rows × 7 columns</p>\n",
              "</div>\n",
              "      <button class=\"colab-df-convert\" onclick=\"convertToInteractive('df-71352ad5-5496-4956-9eec-48bb055e9b02')\"\n",
              "              title=\"Convert this dataframe to an interactive table.\"\n",
              "              style=\"display:none;\">\n",
              "        \n",
              "  <svg xmlns=\"http://www.w3.org/2000/svg\" height=\"24px\"viewBox=\"0 0 24 24\"\n",
              "       width=\"24px\">\n",
              "    <path d=\"M0 0h24v24H0V0z\" fill=\"none\"/>\n",
              "    <path d=\"M18.56 5.44l.94 2.06.94-2.06 2.06-.94-2.06-.94-.94-2.06-.94 2.06-2.06.94zm-11 1L8.5 8.5l.94-2.06 2.06-.94-2.06-.94L8.5 2.5l-.94 2.06-2.06.94zm10 10l.94 2.06.94-2.06 2.06-.94-2.06-.94-.94-2.06-.94 2.06-2.06.94z\"/><path d=\"M17.41 7.96l-1.37-1.37c-.4-.4-.92-.59-1.43-.59-.52 0-1.04.2-1.43.59L10.3 9.45l-7.72 7.72c-.78.78-.78 2.05 0 2.83L4 21.41c.39.39.9.59 1.41.59.51 0 1.02-.2 1.41-.59l7.78-7.78 2.81-2.81c.8-.78.8-2.07 0-2.86zM5.41 20L4 18.59l7.72-7.72 1.47 1.35L5.41 20z\"/>\n",
              "  </svg>\n",
              "      </button>\n",
              "      \n",
              "  <style>\n",
              "    .colab-df-container {\n",
              "      display:flex;\n",
              "      flex-wrap:wrap;\n",
              "      gap: 12px;\n",
              "    }\n",
              "\n",
              "    .colab-df-convert {\n",
              "      background-color: #E8F0FE;\n",
              "      border: none;\n",
              "      border-radius: 50%;\n",
              "      cursor: pointer;\n",
              "      display: none;\n",
              "      fill: #1967D2;\n",
              "      height: 32px;\n",
              "      padding: 0 0 0 0;\n",
              "      width: 32px;\n",
              "    }\n",
              "\n",
              "    .colab-df-convert:hover {\n",
              "      background-color: #E2EBFA;\n",
              "      box-shadow: 0px 1px 2px rgba(60, 64, 67, 0.3), 0px 1px 3px 1px rgba(60, 64, 67, 0.15);\n",
              "      fill: #174EA6;\n",
              "    }\n",
              "\n",
              "    [theme=dark] .colab-df-convert {\n",
              "      background-color: #3B4455;\n",
              "      fill: #D2E3FC;\n",
              "    }\n",
              "\n",
              "    [theme=dark] .colab-df-convert:hover {\n",
              "      background-color: #434B5C;\n",
              "      box-shadow: 0px 1px 3px 1px rgba(0, 0, 0, 0.15);\n",
              "      filter: drop-shadow(0px 1px 2px rgba(0, 0, 0, 0.3));\n",
              "      fill: #FFFFFF;\n",
              "    }\n",
              "  </style>\n",
              "\n",
              "      <script>\n",
              "        const buttonEl =\n",
              "          document.querySelector('#df-71352ad5-5496-4956-9eec-48bb055e9b02 button.colab-df-convert');\n",
              "        buttonEl.style.display =\n",
              "          google.colab.kernel.accessAllowed ? 'block' : 'none';\n",
              "\n",
              "        async function convertToInteractive(key) {\n",
              "          const element = document.querySelector('#df-71352ad5-5496-4956-9eec-48bb055e9b02');\n",
              "          const dataTable =\n",
              "            await google.colab.kernel.invokeFunction('convertToInteractive',\n",
              "                                                     [key], {});\n",
              "          if (!dataTable) return;\n",
              "\n",
              "          const docLinkHtml = 'Like what you see? Visit the ' +\n",
              "            '<a target=\"_blank\" href=https://colab.research.google.com/notebooks/data_table.ipynb>data table notebook</a>'\n",
              "            + ' to learn more about interactive tables.';\n",
              "          element.innerHTML = '';\n",
              "          dataTable['output_type'] = 'display_data';\n",
              "          await google.colab.output.renderOutput(dataTable, element);\n",
              "          const docLink = document.createElement('div');\n",
              "          docLink.innerHTML = docLinkHtml;\n",
              "          element.appendChild(docLink);\n",
              "        }\n",
              "      </script>\n",
              "    </div>\n",
              "  </div>\n",
              "  "
            ]
          },
          "metadata": {},
          "execution_count": 20
        }
      ],
      "source": [
        "import pandas as pd\n",
        "from numpy import array\n",
        "\n",
        "df = pd.read_excel('/content/PGEO.JK.xlsx')\n",
        "df"
      ]
    },
    {
      "cell_type": "markdown",
      "source": [
        "# KNN"
      ],
      "metadata": {
        "id": "ULEYP69hKH5k"
      }
    },
    {
      "cell_type": "code",
      "source": [
        "import pandas as pd\n",
        "from sklearn.model_selection import train_test_split\n",
        "from sklearn.neighbors import KNeighborsRegressor\n",
        "from sklearn.metrics import mean_absolute_percentage_error\n",
        "from sklearn.preprocessing import MinMaxScaler\n",
        "\n",
        "# Membaca data saham dari file CSV\n",
        "data = pd.read_csv('https://raw.githubusercontent.com/Mohammad-Unis-Iswahyudi/kolaborasipro/master/PGEO.JK.csv')\n",
        "\n",
        "# Mengambil fitur dan target\n",
        "features = data[['Open', 'High', 'Low', 'Close', 'Adj Close', 'Volume']]\n",
        "target = data[['Open', 'High', 'Low', 'Close']]\n",
        "\n",
        "# Normalisasi fitur menggunakan Min-Max scaler\n",
        "scaler = MinMaxScaler()\n",
        "features_scaled = scaler.fit_transform(features)\n",
        "\n",
        "# Reduksi dimensi menggunakan PCA\n",
        "pca = PCA(n_components=4)\n",
        "features_pca = pca.fit_transform(features_scaled)\n",
        "\n",
        "# Membagi data menjadi data latih dan data uji\n",
        "X_train, X_test, y_train, y_test = train_test_split(features_scaled, target, test_size=0.2, random_state=42)\n",
        "\n",
        "# Membuat model KNN\n",
        "knn_model = KNeighborsRegressor(n_neighbors=5)\n",
        "\n",
        "# Melatih model KNN\n",
        "knn_model.fit(X_train, y_train)\n",
        "\n",
        "# Melakukan prediksi pada data uji\n",
        "y_pred = knn_model.predict(X_test)\n",
        "\n",
        "# Menghitung MAPE\n",
        "mape = mean_absolute_percentage_error(y_test, y_pred)\n",
        "print(\"MAPE:\", mape)\n"
      ],
      "metadata": {
        "colab": {
          "base_uri": "https://localhost:8080/"
        },
        "id": "rUw5wVOSMC4C",
        "outputId": "fe53065b-dedd-4503-c24f-0b4fd91f6ee3"
      },
      "execution_count": 46,
      "outputs": [
        {
          "output_type": "stream",
          "name": "stdout",
          "text": [
            "MAPE: 0.016654512698553423\n"
          ]
        }
      ]
    },
    {
      "cell_type": "markdown",
      "source": [
        "# Random Forest"
      ],
      "metadata": {
        "id": "1ERq1DqjZgor"
      }
    },
    {
      "cell_type": "code",
      "source": [
        "import pandas as pd\n",
        "from sklearn.model_selection import train_test_split\n",
        "from sklearn.ensemble import RandomForestRegressor\n",
        "from sklearn.metrics import mean_absolute_percentage_error\n",
        "from sklearn.preprocessing import MinMaxScaler\n",
        "\n",
        "# Membaca data saham dari file CSV\n",
        "data = pd.read_csv('https://raw.githubusercontent.com/Mohammad-Unis-Iswahyudi/kolaborasipro/master/PGEO.JK.csv')\n",
        "\n",
        "# Mengambil fitur dan target\n",
        "features = data[['Open', 'High', 'Low', 'Close', 'Adj Close', 'Volume']]\n",
        "target = data[['Open', 'High', 'Low', 'Close']]\n",
        "\n",
        "# Normalisasi fitur menggunakan Min-Max scaler\n",
        "scaler = MinMaxScaler()\n",
        "features_scaled = scaler.fit_transform(features)\n",
        "\n",
        "# Reduksi dimensi menggunakan PCA\n",
        "pca = PCA(n_components=4)\n",
        "features_pca = pca.fit_transform(features_scaled)\n",
        "\n",
        "# Membagi data menjadi data latih dan data uji\n",
        "X_train, X_test, y_train, y_test = train_test_split(features_scaled, target, test_size=0.2, random_state=42)\n",
        "\n",
        "# Membuat model Random Forest Regression\n",
        "rf_model = RandomForestRegressor(n_estimators=100, random_state=42)\n",
        "\n",
        "# Melatih model Random Forest Regression\n",
        "rf_model.fit(X_train, y_train)\n",
        "\n",
        "# Melakukan prediksi pada data uji\n",
        "y_pred = rf_model.predict(X_test)\n",
        "\n",
        "# Menghitung MAPE\n",
        "mape = mean_absolute_percentage_error(y_test, y_pred)\n",
        "print(\"MAPE:\", mape)\n"
      ],
      "metadata": {
        "colab": {
          "base_uri": "https://localhost:8080/"
        },
        "id": "EO-VeGsUMk8q",
        "outputId": "05b28509-c5af-4b07-9558-22c585f47c3c"
      },
      "execution_count": 48,
      "outputs": [
        {
          "output_type": "stream",
          "name": "stdout",
          "text": [
            "MAPE: 0.013595038654061888\n"
          ]
        }
      ]
    },
    {
      "cell_type": "markdown",
      "source": [
        "# Decision Tree"
      ],
      "metadata": {
        "id": "_NaX6buCZ3vI"
      }
    },
    {
      "cell_type": "code",
      "source": [
        "import pandas as pd\n",
        "from sklearn.model_selection import train_test_split\n",
        "from sklearn.tree import DecisionTreeRegressor\n",
        "from sklearn.metrics import mean_absolute_percentage_error\n",
        "from sklearn.preprocessing import MinMaxScaler\n",
        "from sklearn.decomposition import PCA\n",
        "\n",
        "# Membaca data saham dari file CSV\n",
        "data = pd.read_csv('https://raw.githubusercontent.com/Mohammad-Unis-Iswahyudi/kolaborasipro/master/PGEO.JK.csv')\n",
        "\n",
        "# Mengambil fitur dan target\n",
        "features = data[['Open', 'High', 'Low', 'Close', 'Adj Close', 'Volume']]\n",
        "target = data[['Open', 'High', 'Low', 'Close']]\n",
        "\n",
        "# Normalisasi fitur menggunakan Min-Max scaler\n",
        "scaler = MinMaxScaler()\n",
        "features_scaled = scaler.fit_transform(features)\n",
        "\n",
        "# Reduksi dimensi menggunakan PCA\n",
        "pca = PCA(n_components=4)\n",
        "features_pca = pca.fit_transform(features_scaled)\n",
        "\n",
        "# Membagi data menjadi data latih dan data uji\n",
        "X_train, X_test, y_train, y_test = train_test_split(features_pca, target, test_size=0.2, random_state=42)\n",
        "\n",
        "# Membuat model Decision Tree Regression\n",
        "dt_model = DecisionTreeRegressor(random_state=42)\n",
        "\n",
        "# Melatih model Decision Tree Regression\n",
        "dt_model.fit(X_train, y_train)\n",
        "\n",
        "# Melakukan prediksi pada data uji\n",
        "y_pred = dt_model.predict(X_test)\n",
        "\n",
        "# Menghitung MAPE\n",
        "mape = mean_absolute_percentage_error(y_test, y_pred)\n",
        "print(\"MAPE:\", mape)"
      ],
      "metadata": {
        "colab": {
          "base_uri": "https://localhost:8080/"
        },
        "id": "qBtQj9XJOng5",
        "outputId": "af8ce220-5ea6-4de2-9037-92f49b327bc1"
      },
      "execution_count": 50,
      "outputs": [
        {
          "output_type": "stream",
          "name": "stdout",
          "text": [
            "MAPE: 0.016551408007941894\n"
          ]
        }
      ]
    }
  ]
}